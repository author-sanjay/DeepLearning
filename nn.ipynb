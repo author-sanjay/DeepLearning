{
  "nbformat": 4,
  "nbformat_minor": 0,
  "metadata": {
    "colab": {
      "provenance": [],
      "authorship_tag": "ABX9TyMs4oZJF74N1oIHxD63njLk",
      "include_colab_link": true
    },
    "kernelspec": {
      "name": "python3",
      "display_name": "Python 3"
    },
    "language_info": {
      "name": "python"
    }
  },
  "cells": [
    {
      "cell_type": "markdown",
      "metadata": {
        "id": "view-in-github",
        "colab_type": "text"
      },
      "source": [
        "<a href=\"https://colab.research.google.com/github/author-sanjay/DeepLearning/blob/main/nn.ipynb\" target=\"_parent\"><img src=\"https://colab.research.google.com/assets/colab-badge.svg\" alt=\"Open In Colab\"/></a>"
      ]
    },
    {
      "cell_type": "code",
      "execution_count": 52,
      "metadata": {
        "colab": {
          "base_uri": "https://localhost:8080/",
          "height": 35
        },
        "id": "nNQ0DKQEWFDl",
        "outputId": "c9afb1b4-4c58-476a-c69e-293e850f3263"
      },
      "outputs": [
        {
          "output_type": "execute_result",
          "data": {
            "text/plain": [
              "'1.13.0+cu116'"
            ],
            "application/vnd.google.colaboratory.intrinsic+json": {
              "type": "string"
            }
          },
          "metadata": {},
          "execution_count": 52
        }
      ],
      "source": [
        "import torch\n",
        "from torch import nn\n",
        "import matplotlib.pyplot as plt\n",
        "\n",
        "torch.__version__"
      ]
    },
    {
      "cell_type": "markdown",
      "source": [
        "##Data (Preparing and Loading)"
      ],
      "metadata": {
        "id": "tFyXBJl2ZD7l"
      }
    },
    {
      "cell_type": "code",
      "source": [
        "#known\n",
        "weight=0.7\n",
        "bias=0.3\n",
        "start=0\n",
        "end=1\n",
        "step=0.02\n",
        "X=torch.arange(start,end,step).unsqueeze(dim=1)\n",
        "y=weight+bias*X\n",
        "X[:10],y[:10]"
      ],
      "metadata": {
        "colab": {
          "base_uri": "https://localhost:8080/"
        },
        "id": "e8eJmTLOZNp1",
        "outputId": "b43a03fc-a965-414c-ba95-d46b79f6ed76"
      },
      "execution_count": 53,
      "outputs": [
        {
          "output_type": "execute_result",
          "data": {
            "text/plain": [
              "(tensor([[0.0000],\n",
              "         [0.0200],\n",
              "         [0.0400],\n",
              "         [0.0600],\n",
              "         [0.0800],\n",
              "         [0.1000],\n",
              "         [0.1200],\n",
              "         [0.1400],\n",
              "         [0.1600],\n",
              "         [0.1800]]), tensor([[0.7000],\n",
              "         [0.7060],\n",
              "         [0.7120],\n",
              "         [0.7180],\n",
              "         [0.7240],\n",
              "         [0.7300],\n",
              "         [0.7360],\n",
              "         [0.7420],\n",
              "         [0.7480],\n",
              "         [0.7540]]))"
            ]
          },
          "metadata": {},
          "execution_count": 53
        }
      ]
    },
    {
      "cell_type": "markdown",
      "source": [
        "###Training and testing"
      ],
      "metadata": {
        "id": "js1XXvRbc3Rv"
      }
    },
    {
      "cell_type": "code",
      "source": [
        "#create and train test split\n",
        "train_split= int(0.8*len(X))\n",
        "x_train , y_train=X[:train_split],y[:train_split]\n",
        "x_test,y_test=X[train_split:],y[train_split:]\n"
      ],
      "metadata": {
        "id": "j8iGxyGlcBOX"
      },
      "execution_count": 54,
      "outputs": []
    },
    {
      "cell_type": "markdown",
      "source": [
        "###Visualize\n"
      ],
      "metadata": {
        "id": "qoxpebGWeGM7"
      }
    },
    {
      "cell_type": "code",
      "source": [
        "def plot_prediction(train_data=x_train,train_labels=y_train,test_data=x_test,test_labels=y_test,predictions=None):\n",
        "  plt.figure(figsize=(10,7))\n",
        "  plt.scatter(train_data,train_labels,c=\"b\", s=4,label=\"training data\")\n",
        "  plt.scatter(test_data,test_labels,c=\"g\", s=7,label=\"test data\")\n",
        "  if predictions is not None:\n",
        "    plt.scatter(test_data,predictions,c=\"r\", s=4,label=\"Predictions\")\n",
        "\n",
        "  plt.legend(prop={\"size\":14})\n",
        "  "
      ],
      "metadata": {
        "id": "001RRStld_ci"
      },
      "execution_count": 55,
      "outputs": []
    },
    {
      "cell_type": "code",
      "source": [
        "plot_prediction()"
      ],
      "metadata": {
        "colab": {
          "base_uri": "https://localhost:8080/",
          "height": 428
        },
        "id": "ksvDEmvb_wLA",
        "outputId": "77ab1936-256d-4646-a872-6fe4d80dcfd9"
      },
      "execution_count": 56,
      "outputs": [
        {
          "output_type": "display_data",
          "data": {
            "text/plain": [
              "<Figure size 720x504 with 1 Axes>"
            ],
            "image/png": "[encoded data removed]"
          },
          "metadata": {
            "needs_background": "light"
          }
        }
      ]
    },
    {
      "cell_type": "markdown",
      "source": [
        "##Building first model\n",
        "\n",
        "\n",
        "\n",
        "###What this does:\n",
        "1. Start with random values\n",
        "2. Look at the training data and adjust the random values to better represent the ideal values \n",
        "\n",
        "###But How?\n",
        "1. Gradient Decent Algo\n",
        "2. Backpropagation\n"
      ],
      "metadata": {
        "id": "lUK5cRr7A4DZ"
      }
    },
    {
      "cell_type": "code",
      "source": [
        "#Create linear regression model\n",
        "class LinearRegressionModel(nn.Module):\n",
        "  def __init__(self):\n",
        "    super().__init__()\n",
        "\n",
        "    self.weight=nn.Parameter(torch.randn(1,requires_grad=True,dtype=torch.float))\n",
        "    self.bias=nn.Parameter(torch.randn(1,requires_grad=True,dtype=torch.float))\n",
        "\n",
        "  def forward(self,x:torch.Tensor)->torch.Tensor: #-> means returns and x: means x is of Torch Tensor type\n",
        "   return self.weight*x+self.bias\n",
        "\n",
        "#any subclass of nn module has a forward methond where the logic of the computation is stored. In This case we are using the regression formula\n",
        "\n"
      ],
      "metadata": {
        "id": "31tAdvp-A6co"
      },
      "execution_count": 57,
      "outputs": []
    },
    {
      "cell_type": "markdown",
      "source": [
        "##Pytorch Model Building essentials\n",
        "\n",
        "* torch.nn - contains all the building for computation graphs \n",
        "* torch.nn.parameter- what parameters should outr model try and learn\n",
        "* torch.nn.Module- The base class for all nn modules. If you subclass It you should overwrite forward method\n",
        "* torch.optim- This is where the optimizers in PyTorch live. They will help with gradient Decent \n",
        "\n",
        "* def forward( )- Defines what happens in the forward computation...\n",
        "\n",
        "* torch.utils.data.Dataset - represents a map between key and sample pairs of your data such as images and their associated labels\n",
        "\n",
        "* torch.utils.data.Dataloader - creates a python iterable over a torch dataset. "
      ],
      "metadata": {
        "id": "DGRR1fcqUKqU"
      }
    },
    {
      "cell_type": "code",
      "source": [
        "\n",
        "torch.manual_seed(42)\n",
        "\n",
        "model_0=LinearRegressionModel()\n",
        "\n",
        "list(model_0.parameters())"
      ],
      "metadata": {
        "colab": {
          "base_uri": "https://localhost:8080/"
        },
        "id": "RNPUTxARWvWU",
        "outputId": "25c2a782-38c1-4c94-b43b-1ccde4dccceb"
      },
      "execution_count": 58,
      "outputs": [
        {
          "output_type": "execute_result",
          "data": {
            "text/plain": [
              "[Parameter containing:\n",
              " tensor([0.3367], requires_grad=True), Parameter containing:\n",
              " tensor([0.1288], requires_grad=True)]"
            ]
          },
          "metadata": {},
          "execution_count": 58
        }
      ]
    },
    {
      "cell_type": "code",
      "source": [
        "# List named parameters\n",
        "\n",
        "model_0.state_dict()"
      ],
      "metadata": {
        "colab": {
          "base_uri": "https://localhost:8080/"
        },
        "id": "_MW9kHWMW_cV",
        "outputId": "adb0f0f6-46d6-4fc3-cf34-6599a31b8212"
      },
      "execution_count": 59,
      "outputs": [
        {
          "output_type": "execute_result",
          "data": {
            "text/plain": [
              "OrderedDict([('weight', tensor([0.3367])), ('bias', tensor([0.1288]))])"
            ]
          },
          "metadata": {},
          "execution_count": 59
        }
      ]
    },
    {
      "cell_type": "code",
      "source": [
        "# Make predictions with our model using torch.inference_mode()\n",
        "\n",
        "with torch.inference_mode():\n",
        "  y_preds=model_0(x_test)\n",
        "  \n",
        "\n",
        "y_preds"
      ],
      "metadata": {
        "colab": {
          "base_uri": "https://localhost:8080/"
        },
        "id": "AJsdQHhCXL_E",
        "outputId": "cb093d7c-2873-47b0-acce-737c28aa864f"
      },
      "execution_count": 60,
      "outputs": [
        {
          "output_type": "execute_result",
          "data": {
            "text/plain": [
              "tensor([[0.3982],\n",
              "        [0.4049],\n",
              "        [0.4116],\n",
              "        [0.4184],\n",
              "        [0.4251],\n",
              "        [0.4318],\n",
              "        [0.4386],\n",
              "        [0.4453],\n",
              "        [0.4520],\n",
              "        [0.4588]])"
            ]
          },
          "metadata": {},
          "execution_count": 60
        }
      ]
    },
    {
      "cell_type": "code",
      "source": [
        "y_test"
      ],
      "metadata": {
        "colab": {
          "base_uri": "https://localhost:8080/"
        },
        "id": "izt6xkfzZL7C",
        "outputId": "ad2ca685-ace3-49dc-9379-6f66094b362e"
      },
      "execution_count": 61,
      "outputs": [
        {
          "output_type": "execute_result",
          "data": {
            "text/plain": [
              "tensor([[0.9400],\n",
              "        [0.9460],\n",
              "        [0.9520],\n",
              "        [0.9580],\n",
              "        [0.9640],\n",
              "        [0.9700],\n",
              "        [0.9760],\n",
              "        [0.9820],\n",
              "        [0.9880],\n",
              "        [0.9940]])"
            ]
          },
          "metadata": {},
          "execution_count": 61
        }
      ]
    },
    {
      "cell_type": "code",
      "source": [
        "plot_prediction(predictions=y_preds)"
      ],
      "metadata": {
        "colab": {
          "base_uri": "https://localhost:8080/",
          "height": 428
        },
        "id": "EpIkrXHnZSXF",
        "outputId": "0568600b-e3f0-4c92-e343-4a419abcfb23"
      },
      "execution_count": 62,
      "outputs": [
        {
          "output_type": "display_data",
          "data": {
            "text/plain": [
              "<Figure size 720x504 with 1 Axes>"
            ],
            "image/png": "[encoded data removed]"
          },
          "metadata": {
            "needs_background": "light"
          }
        }
      ]
    },
    {
      "cell_type": "markdown",
      "source": [
        "##Training Model\n",
        "\n",
        "\n",
        "---\n",
        "\n",
        "One way is to use the loss function \n",
        "\n",
        "##Things we need\n",
        "* **Loss Function**\n",
        "* **Optimizer**\n"
      ],
      "metadata": {
        "id": "7Rgb3OXIb65t"
      }
    },
    {
      "cell_type": "code",
      "source": [
        "#SetUp a Loss Function\n",
        "loss_fn=nn.L1Loss()\n",
        "\n",
        "#SetUp a Optimizer\n",
        "optimizer = torch.optim.SGD(params=model_0.parameters(),lr=0.01) #lr = learning rate \n"
      ],
      "metadata": {
        "id": "Sq3MHTEQNe3Y"
      },
      "execution_count": 63,
      "outputs": []
    },
    {
      "cell_type": "markdown",
      "source": [
        "###Training loop\n",
        "\n",
        "1. loop through the data\n",
        "2. forward Pass\n",
        "3. Calculate the loss \n",
        "4. Optimizer zero grad\n",
        "5. Loss backward\n",
        "6. Optimizer step\n"
      ],
      "metadata": {
        "id": "rZSKBi4U4PVs"
      }
    },
    {
      "cell_type": "code",
      "source": [
        "torch.manual_seed(42)\n",
        "epochs=200\n",
        "\n",
        "for epoch in range(epochs):\n",
        "  model_0.train()  #sets all para to require grade true\n",
        "  \n",
        "  y_pred=model_0(x_train)\n",
        "\n",
        "  loss=loss_fn(y_pred,y_train)\n",
        "\n",
        "  optimizer.zero_grad()\n",
        "\n",
        "  loss.backward()\n",
        "  \n",
        "  optimizer.step()\n",
        "\n",
        "  #Testing\n",
        "  model_0.eval()\n",
        "  with torch.inference_mode():\n",
        "    test_pred=model_0(x_test)\n",
        "\n",
        "    test_loss=loss_fn(test_pred,y_test)\n",
        "  \n",
        "  if epoch%10==0:\n",
        "    print(f\"Epoch:{epoch} | Loss: {loss} | Test Loss: {test_loss}\")\n",
        "  \n",
        "  print(model_0.state_dict())"
      ],
      "metadata": {
        "colab": {
          "base_uri": "https://localhost:8080/"
        },
        "id": "wJDWSlTf4Bgj",
        "outputId": "ab6ab369-6d80-4b0a-8a9c-7027c9780030"
      },
      "execution_count": 69,
      "outputs": [
        {
          "output_type": "stream",
          "name": "stdout",
          "text": [
            "Epoch:0 | Loss: 0.025997888296842575 | Test Loss: 0.05985529348254204\n",
            "OrderedDict([('weight', tensor([0.4276])), ('bias', tensor([0.6463]))])\n",
            "OrderedDict([('weight', tensor([0.4260])), ('bias', tensor([0.6473]))])\n",
            "OrderedDict([('weight', tensor([0.4242])), ('bias', tensor([0.6478]))])\n",
            "OrderedDict([('weight', tensor([0.4226])), ('bias', tensor([0.6488]))])\n",
            "OrderedDict([('weight', tensor([0.4208])), ('bias', tensor([0.6493]))])\n",
            "OrderedDict([('weight', tensor([0.4190])), ('bias', tensor([0.6498]))])\n",
            "OrderedDict([('weight', tensor([0.4174])), ('bias', tensor([0.6508]))])\n",
            "OrderedDict([('weight', tensor([0.4156])), ('bias', tensor([0.6513]))])\n",
            "OrderedDict([('weight', tensor([0.4140])), ('bias', tensor([0.6523]))])\n",
            "OrderedDict([('weight', tensor([0.4122])), ('bias', tensor([0.6528]))])\n",
            "Epoch:10 | Loss: 0.02256198786199093 | Test Loss: 0.05226977914571762\n",
            "OrderedDict([('weight', tensor([0.4106])), ('bias', tensor([0.6538]))])\n",
            "OrderedDict([('weight', tensor([0.4088])), ('bias', tensor([0.6543]))])\n",
            "OrderedDict([('weight', tensor([0.4070])), ('bias', tensor([0.6548]))])\n",
            "OrderedDict([('weight', tensor([0.4054])), ('bias', tensor([0.6558]))])\n",
            "OrderedDict([('weight', tensor([0.4036])), ('bias', tensor([0.6563]))])\n",
            "OrderedDict([('weight', tensor([0.4020])), ('bias', tensor([0.6573]))])\n",
            "OrderedDict([('weight', tensor([0.4002])), ('bias', tensor([0.6578]))])\n",
            "OrderedDict([('weight', tensor([0.3987])), ('bias', tensor([0.6588]))])\n",
            "OrderedDict([('weight', tensor([0.3969])), ('bias', tensor([0.6593]))])\n",
            "OrderedDict([('weight', tensor([0.3953])), ('bias', tensor([0.6603]))])\n",
            "Epoch:20 | Loss: 0.019133061170578003 | Test Loss: 0.043997425585985184\n",
            "OrderedDict([('weight', tensor([0.3935])), ('bias', tensor([0.6608]))])\n",
            "OrderedDict([('weight', tensor([0.3917])), ('bias', tensor([0.6613]))])\n",
            "OrderedDict([('weight', tensor([0.3901])), ('bias', tensor([0.6623]))])\n",
            "OrderedDict([('weight', tensor([0.3883])), ('bias', tensor([0.6628]))])\n",
            "OrderedDict([('weight', tensor([0.3867])), ('bias', tensor([0.6638]))])\n",
            "OrderedDict([('weight', tensor([0.3849])), ('bias', tensor([0.6643]))])\n",
            "OrderedDict([('weight', tensor([0.3833])), ('bias', tensor([0.6653]))])\n",
            "OrderedDict([('weight', tensor([0.3815])), ('bias', tensor([0.6658]))])\n",
            "OrderedDict([('weight', tensor([0.3797])), ('bias', tensor([0.6663]))])\n",
            "OrderedDict([('weight', tensor([0.3781])), ('bias', tensor([0.6673]))])\n",
            "Epoch:30 | Loss: 0.01569424197077751 | Test Loss: 0.03572506457567215\n",
            "OrderedDict([('weight', tensor([0.3763])), ('bias', tensor([0.6678]))])\n",
            "OrderedDict([('weight', tensor([0.3747])), ('bias', tensor([0.6688]))])\n",
            "OrderedDict([('weight', tensor([0.3729])), ('bias', tensor([0.6693]))])\n",
            "OrderedDict([('weight', tensor([0.3713])), ('bias', tensor([0.6703]))])\n",
            "OrderedDict([('weight', tensor([0.3695])), ('bias', tensor([0.6708]))])\n",
            "OrderedDict([('weight', tensor([0.3677])), ('bias', tensor([0.6713]))])\n",
            "OrderedDict([('weight', tensor([0.3661])), ('bias', tensor([0.6723]))])\n",
            "OrderedDict([('weight', tensor([0.3643])), ('bias', tensor([0.6728]))])\n",
            "OrderedDict([('weight', tensor([0.3627])), ('bias', tensor([0.6738]))])\n",
            "OrderedDict([('weight', tensor([0.3609])), ('bias', tensor([0.6743]))])\n",
            "Epoch:40 | Loss: 0.012260009534657001 | Test Loss: 0.028139550238847733\n",
            "OrderedDict([('weight', tensor([0.3594])), ('bias', tensor([0.6753]))])\n",
            "OrderedDict([('weight', tensor([0.3576])), ('bias', tensor([0.6758]))])\n",
            "OrderedDict([('weight', tensor([0.3560])), ('bias', tensor([0.6768]))])\n",
            "OrderedDict([('weight', tensor([0.3542])), ('bias', tensor([0.6773]))])\n",
            "OrderedDict([('weight', tensor([0.3524])), ('bias', tensor([0.6778]))])\n",
            "OrderedDict([('weight', tensor([0.3508])), ('bias', tensor([0.6788]))])\n",
            "OrderedDict([('weight', tensor([0.3490])), ('bias', tensor([0.6793]))])\n",
            "OrderedDict([('weight', tensor([0.3474])), ('bias', tensor([0.6803]))])\n",
            "OrderedDict([('weight', tensor([0.3456])), ('bias', tensor([0.6808]))])\n",
            "OrderedDict([('weight', tensor([0.3440])), ('bias', tensor([0.6818]))])\n",
            "Epoch:50 | Loss: 0.008829416707158089 | Test Loss: 0.0198671817779541\n",
            "OrderedDict([('weight', tensor([0.3422])), ('bias', tensor([0.6823]))])\n",
            "OrderedDict([('weight', tensor([0.3404])), ('bias', tensor([0.6828]))])\n",
            "OrderedDict([('weight', tensor([0.3388])), ('bias', tensor([0.6838]))])\n",
            "OrderedDict([('weight', tensor([0.3370])), ('bias', tensor([0.6843]))])\n",
            "OrderedDict([('weight', tensor([0.3354])), ('bias', tensor([0.6853]))])\n",
            "OrderedDict([('weight', tensor([0.3336])), ('bias', tensor([0.6858]))])\n",
            "OrderedDict([('weight', tensor([0.3320])), ('bias', tensor([0.6868]))])\n",
            "OrderedDict([('weight', tensor([0.3302])), ('bias', tensor([0.6873]))])\n",
            "OrderedDict([('weight', tensor([0.3284])), ('bias', tensor([0.6878]))])\n",
            "OrderedDict([('weight', tensor([0.3268])), ('bias', tensor([0.6888]))])\n",
            "Epoch:60 | Loss: 0.005390599370002747 | Test Loss: 0.011594819836318493\n",
            "OrderedDict([('weight', tensor([0.3250])), ('bias', tensor([0.6893]))])\n",
            "OrderedDict([('weight', tensor([0.3234])), ('bias', tensor([0.6903]))])\n",
            "OrderedDict([('weight', tensor([0.3216])), ('bias', tensor([0.6908]))])\n",
            "OrderedDict([('weight', tensor([0.3201])), ('bias', tensor([0.6918]))])\n",
            "OrderedDict([('weight', tensor([0.3183])), ('bias', tensor([0.6923]))])\n",
            "OrderedDict([('weight', tensor([0.3167])), ('bias', tensor([0.6933]))])\n",
            "OrderedDict([('weight', tensor([0.3149])), ('bias', tensor([0.6938]))])\n",
            "OrderedDict([('weight', tensor([0.3131])), ('bias', tensor([0.6943]))])\n",
            "OrderedDict([('weight', tensor([0.3115])), ('bias', tensor([0.6953]))])\n",
            "OrderedDict([('weight', tensor([0.3097])), ('bias', tensor([0.6958]))])\n",
            "Epoch:70 | Loss: 0.0019580244552344084 | Test Loss: 0.00400930643081665\n",
            "OrderedDict([('weight', tensor([0.3081])), ('bias', tensor([0.6968]))])\n",
            "OrderedDict([('weight', tensor([0.3061])), ('bias', tensor([0.6968]))])\n",
            "OrderedDict([('weight', tensor([0.3057])), ('bias', tensor([0.7003]))])\n",
            "OrderedDict([('weight', tensor([0.3018])), ('bias', tensor([0.6903]))])\n",
            "OrderedDict([('weight', tensor([0.3057])), ('bias', tensor([0.7003]))])\n",
            "OrderedDict([('weight', tensor([0.3018])), ('bias', tensor([0.6903]))])\n",
            "OrderedDict([('weight', tensor([0.3057])), ('bias', tensor([0.7003]))])\n",
            "OrderedDict([('weight', tensor([0.3018])), ('bias', tensor([0.6903]))])\n",
            "OrderedDict([('weight', tensor([0.3057])), ('bias', tensor([0.7003]))])\n",
            "OrderedDict([('weight', tensor([0.3018])), ('bias', tensor([0.6903]))])\n",
            "Epoch:80 | Loss: 0.008988434448838234 | Test Loss: 0.00538221001625061\n",
            "OrderedDict([('weight', tensor([0.3057])), ('bias', tensor([0.7003]))])\n",
            "OrderedDict([('weight', tensor([0.3018])), ('bias', tensor([0.6903]))])\n",
            "OrderedDict([('weight', tensor([0.3057])), ('bias', tensor([0.7003]))])\n",
            "OrderedDict([('weight', tensor([0.3018])), ('bias', tensor([0.6903]))])\n",
            "OrderedDict([('weight', tensor([0.3057])), ('bias', tensor([0.7003]))])\n",
            "OrderedDict([('weight', tensor([0.3018])), ('bias', tensor([0.6903]))])\n",
            "OrderedDict([('weight', tensor([0.3057])), ('bias', tensor([0.7003]))])\n",
            "OrderedDict([('weight', tensor([0.3018])), ('bias', tensor([0.6903]))])\n",
            "OrderedDict([('weight', tensor([0.3057])), ('bias', tensor([0.7003]))])\n",
            "OrderedDict([('weight', tensor([0.3018])), ('bias', tensor([0.6903]))])\n",
            "Epoch:90 | Loss: 0.008988434448838234 | Test Loss: 0.00538221001625061\n",
            "OrderedDict([('weight', tensor([0.3057])), ('bias', tensor([0.7003]))])\n",
            "OrderedDict([('weight', tensor([0.3018])), ('bias', tensor([0.6903]))])\n",
            "OrderedDict([('weight', tensor([0.3057])), ('bias', tensor([0.7003]))])\n",
            "OrderedDict([('weight', tensor([0.3018])), ('bias', tensor([0.6903]))])\n",
            "OrderedDict([('weight', tensor([0.3057])), ('bias', tensor([0.7003]))])\n",
            "OrderedDict([('weight', tensor([0.3018])), ('bias', tensor([0.6903]))])\n",
            "OrderedDict([('weight', tensor([0.3057])), ('bias', tensor([0.7003]))])\n",
            "OrderedDict([('weight', tensor([0.3018])), ('bias', tensor([0.6903]))])\n",
            "OrderedDict([('weight', tensor([0.3057])), ('bias', tensor([0.7003]))])\n",
            "OrderedDict([('weight', tensor([0.3018])), ('bias', tensor([0.6903]))])\n",
            "Epoch:100 | Loss: 0.008988434448838234 | Test Loss: 0.00538221001625061\n",
            "OrderedDict([('weight', tensor([0.3057])), ('bias', tensor([0.7003]))])\n",
            "OrderedDict([('weight', tensor([0.3018])), ('bias', tensor([0.6903]))])\n",
            "OrderedDict([('weight', tensor([0.3057])), ('bias', tensor([0.7003]))])\n",
            "OrderedDict([('weight', tensor([0.3018])), ('bias', tensor([0.6903]))])\n",
            "OrderedDict([('weight', tensor([0.3057])), ('bias', tensor([0.7003]))])\n",
            "OrderedDict([('weight', tensor([0.3018])), ('bias', tensor([0.6903]))])\n",
            "OrderedDict([('weight', tensor([0.3057])), ('bias', tensor([0.7003]))])\n",
            "OrderedDict([('weight', tensor([0.3018])), ('bias', tensor([0.6903]))])\n",
            "OrderedDict([('weight', tensor([0.3057])), ('bias', tensor([0.7003]))])\n",
            "OrderedDict([('weight', tensor([0.3018])), ('bias', tensor([0.6903]))])\n",
            "Epoch:110 | Loss: 0.008988434448838234 | Test Loss: 0.00538221001625061\n",
            "OrderedDict([('weight', tensor([0.3057])), ('bias', tensor([0.7003]))])\n",
            "OrderedDict([('weight', tensor([0.3018])), ('bias', tensor([0.6903]))])\n",
            "OrderedDict([('weight', tensor([0.3057])), ('bias', tensor([0.7003]))])\n",
            "OrderedDict([('weight', tensor([0.3018])), ('bias', tensor([0.6903]))])\n",
            "OrderedDict([('weight', tensor([0.3057])), ('bias', tensor([0.7003]))])\n",
            "OrderedDict([('weight', tensor([0.3018])), ('bias', tensor([0.6903]))])\n",
            "OrderedDict([('weight', tensor([0.3057])), ('bias', tensor([0.7003]))])\n",
            "OrderedDict([('weight', tensor([0.3018])), ('bias', tensor([0.6903]))])\n",
            "OrderedDict([('weight', tensor([0.3057])), ('bias', tensor([0.7003]))])\n",
            "OrderedDict([('weight', tensor([0.3018])), ('bias', tensor([0.6903]))])\n",
            "Epoch:120 | Loss: 0.008988434448838234 | Test Loss: 0.00538221001625061\n",
            "OrderedDict([('weight', tensor([0.3057])), ('bias', tensor([0.7003]))])\n",
            "OrderedDict([('weight', tensor([0.3018])), ('bias', tensor([0.6903]))])\n",
            "OrderedDict([('weight', tensor([0.3057])), ('bias', tensor([0.7003]))])\n",
            "OrderedDict([('weight', tensor([0.3018])), ('bias', tensor([0.6903]))])\n",
            "OrderedDict([('weight', tensor([0.3057])), ('bias', tensor([0.7003]))])\n",
            "OrderedDict([('weight', tensor([0.3018])), ('bias', tensor([0.6903]))])\n",
            "OrderedDict([('weight', tensor([0.3057])), ('bias', tensor([0.7003]))])\n",
            "OrderedDict([('weight', tensor([0.3018])), ('bias', tensor([0.6903]))])\n",
            "OrderedDict([('weight', tensor([0.3057])), ('bias', tensor([0.7003]))])\n",
            "OrderedDict([('weight', tensor([0.3018])), ('bias', tensor([0.6903]))])\n",
            "Epoch:130 | Loss: 0.008988434448838234 | Test Loss: 0.00538221001625061\n",
            "OrderedDict([('weight', tensor([0.3057])), ('bias', tensor([0.7003]))])\n",
            "OrderedDict([('weight', tensor([0.3018])), ('bias', tensor([0.6903]))])\n",
            "OrderedDict([('weight', tensor([0.3057])), ('bias', tensor([0.7003]))])\n",
            "OrderedDict([('weight', tensor([0.3018])), ('bias', tensor([0.6903]))])\n",
            "OrderedDict([('weight', tensor([0.3057])), ('bias', tensor([0.7003]))])\n",
            "OrderedDict([('weight', tensor([0.3018])), ('bias', tensor([0.6903]))])\n",
            "OrderedDict([('weight', tensor([0.3057])), ('bias', tensor([0.7003]))])\n",
            "OrderedDict([('weight', tensor([0.3018])), ('bias', tensor([0.6903]))])\n",
            "OrderedDict([('weight', tensor([0.3057])), ('bias', tensor([0.7003]))])\n",
            "OrderedDict([('weight', tensor([0.3018])), ('bias', tensor([0.6903]))])\n",
            "Epoch:140 | Loss: 0.008988434448838234 | Test Loss: 0.00538221001625061\n",
            "OrderedDict([('weight', tensor([0.3057])), ('bias', tensor([0.7003]))])\n",
            "OrderedDict([('weight', tensor([0.3018])), ('bias', tensor([0.6903]))])\n",
            "OrderedDict([('weight', tensor([0.3057])), ('bias', tensor([0.7003]))])\n",
            "OrderedDict([('weight', tensor([0.3018])), ('bias', tensor([0.6903]))])\n",
            "OrderedDict([('weight', tensor([0.3057])), ('bias', tensor([0.7003]))])\n",
            "OrderedDict([('weight', tensor([0.3018])), ('bias', tensor([0.6903]))])\n",
            "OrderedDict([('weight', tensor([0.3057])), ('bias', tensor([0.7003]))])\n",
            "OrderedDict([('weight', tensor([0.3018])), ('bias', tensor([0.6903]))])\n",
            "OrderedDict([('weight', tensor([0.3057])), ('bias', tensor([0.7003]))])\n",
            "OrderedDict([('weight', tensor([0.3018])), ('bias', tensor([0.6903]))])\n",
            "Epoch:150 | Loss: 0.008988434448838234 | Test Loss: 0.00538221001625061\n",
            "OrderedDict([('weight', tensor([0.3057])), ('bias', tensor([0.7003]))])\n",
            "OrderedDict([('weight', tensor([0.3018])), ('bias', tensor([0.6903]))])\n",
            "OrderedDict([('weight', tensor([0.3057])), ('bias', tensor([0.7003]))])\n",
            "OrderedDict([('weight', tensor([0.3018])), ('bias', tensor([0.6903]))])\n",
            "OrderedDict([('weight', tensor([0.3057])), ('bias', tensor([0.7003]))])\n",
            "OrderedDict([('weight', tensor([0.3018])), ('bias', tensor([0.6903]))])\n",
            "OrderedDict([('weight', tensor([0.3057])), ('bias', tensor([0.7003]))])\n",
            "OrderedDict([('weight', tensor([0.3018])), ('bias', tensor([0.6903]))])\n",
            "OrderedDict([('weight', tensor([0.3057])), ('bias', tensor([0.7003]))])\n",
            "OrderedDict([('weight', tensor([0.3018])), ('bias', tensor([0.6903]))])\n",
            "Epoch:160 | Loss: 0.008988434448838234 | Test Loss: 0.00538221001625061\n",
            "OrderedDict([('weight', tensor([0.3057])), ('bias', tensor([0.7003]))])\n",
            "OrderedDict([('weight', tensor([0.3018])), ('bias', tensor([0.6903]))])\n",
            "OrderedDict([('weight', tensor([0.3057])), ('bias', tensor([0.7003]))])\n",
            "OrderedDict([('weight', tensor([0.3018])), ('bias', tensor([0.6903]))])\n",
            "OrderedDict([('weight', tensor([0.3057])), ('bias', tensor([0.7003]))])\n",
            "OrderedDict([('weight', tensor([0.3018])), ('bias', tensor([0.6903]))])\n",
            "OrderedDict([('weight', tensor([0.3057])), ('bias', tensor([0.7003]))])\n",
            "OrderedDict([('weight', tensor([0.3018])), ('bias', tensor([0.6903]))])\n",
            "OrderedDict([('weight', tensor([0.3057])), ('bias', tensor([0.7003]))])\n",
            "OrderedDict([('weight', tensor([0.3018])), ('bias', tensor([0.6903]))])\n",
            "Epoch:170 | Loss: 0.008988434448838234 | Test Loss: 0.00538221001625061\n",
            "OrderedDict([('weight', tensor([0.3057])), ('bias', tensor([0.7003]))])\n",
            "OrderedDict([('weight', tensor([0.3018])), ('bias', tensor([0.6903]))])\n",
            "OrderedDict([('weight', tensor([0.3057])), ('bias', tensor([0.7003]))])\n",
            "OrderedDict([('weight', tensor([0.3018])), ('bias', tensor([0.6903]))])\n",
            "OrderedDict([('weight', tensor([0.3057])), ('bias', tensor([0.7003]))])\n",
            "OrderedDict([('weight', tensor([0.3018])), ('bias', tensor([0.6903]))])\n",
            "OrderedDict([('weight', tensor([0.3057])), ('bias', tensor([0.7003]))])\n",
            "OrderedDict([('weight', tensor([0.3018])), ('bias', tensor([0.6903]))])\n",
            "OrderedDict([('weight', tensor([0.3057])), ('bias', tensor([0.7003]))])\n",
            "OrderedDict([('weight', tensor([0.3018])), ('bias', tensor([0.6903]))])\n",
            "Epoch:180 | Loss: 0.008988434448838234 | Test Loss: 0.00538221001625061\n",
            "OrderedDict([('weight', tensor([0.3057])), ('bias', tensor([0.7003]))])\n",
            "OrderedDict([('weight', tensor([0.3018])), ('bias', tensor([0.6903]))])\n",
            "OrderedDict([('weight', tensor([0.3057])), ('bias', tensor([0.7003]))])\n",
            "OrderedDict([('weight', tensor([0.3018])), ('bias', tensor([0.6903]))])\n",
            "OrderedDict([('weight', tensor([0.3057])), ('bias', tensor([0.7003]))])\n",
            "OrderedDict([('weight', tensor([0.3018])), ('bias', tensor([0.6903]))])\n",
            "OrderedDict([('weight', tensor([0.3057])), ('bias', tensor([0.7003]))])\n",
            "OrderedDict([('weight', tensor([0.3018])), ('bias', tensor([0.6903]))])\n",
            "OrderedDict([('weight', tensor([0.3057])), ('bias', tensor([0.7003]))])\n",
            "OrderedDict([('weight', tensor([0.3018])), ('bias', tensor([0.6903]))])\n",
            "Epoch:190 | Loss: 0.008988434448838234 | Test Loss: 0.00538221001625061\n",
            "OrderedDict([('weight', tensor([0.3057])), ('bias', tensor([0.7003]))])\n",
            "OrderedDict([('weight', tensor([0.3018])), ('bias', tensor([0.6903]))])\n",
            "OrderedDict([('weight', tensor([0.3057])), ('bias', tensor([0.7003]))])\n",
            "OrderedDict([('weight', tensor([0.3018])), ('bias', tensor([0.6903]))])\n",
            "OrderedDict([('weight', tensor([0.3057])), ('bias', tensor([0.7003]))])\n",
            "OrderedDict([('weight', tensor([0.3018])), ('bias', tensor([0.6903]))])\n",
            "OrderedDict([('weight', tensor([0.3057])), ('bias', tensor([0.7003]))])\n",
            "OrderedDict([('weight', tensor([0.3018])), ('bias', tensor([0.6903]))])\n",
            "OrderedDict([('weight', tensor([0.3057])), ('bias', tensor([0.7003]))])\n",
            "OrderedDict([('weight', tensor([0.3018])), ('bias', tensor([0.6903]))])\n"
          ]
        }
      ]
    },
    {
      "cell_type": "code",
      "source": [
        "with torch.inference_mode():\n",
        "  y_preds_new=model_0(x_test)"
      ],
      "metadata": {
        "id": "BvJpheMH9C6z"
      },
      "execution_count": 70,
      "outputs": []
    },
    {
      "cell_type": "code",
      "source": [
        "model_0.state_dict()"
      ],
      "metadata": {
        "colab": {
          "base_uri": "https://localhost:8080/"
        },
        "id": "g_jB5y6M732z",
        "outputId": "4a1c2ecf-f429-4944-f118-7788dfba7aa1"
      },
      "execution_count": 71,
      "outputs": [
        {
          "output_type": "execute_result",
          "data": {
            "text/plain": [
              "OrderedDict([('weight', tensor([0.3018])), ('bias', tensor([0.6903]))])"
            ]
          },
          "metadata": {},
          "execution_count": 71
        }
      ]
    },
    {
      "cell_type": "code",
      "source": [
        "plot_prediction(predictions=y_preds)"
      ],
      "metadata": {
        "colab": {
          "base_uri": "https://localhost:8080/",
          "height": 428
        },
        "id": "_9OpG2sA79UC",
        "outputId": "4685ee73-0226-4838-fd7a-6581eef923b0"
      },
      "execution_count": 72,
      "outputs": [
        {
          "output_type": "display_data",
          "data": {
            "text/plain": [
              "<Figure size 720x504 with 1 Axes>"
            ],
            "image/png": "[encoded data removed]"
          },
          "metadata": {
            "needs_background": "light"
          }
        }
      ]
    },
    {
      "cell_type": "code",
      "source": [
        "plot_prediction(predictions=y_preds_new)"
      ],
      "metadata": {
        "colab": {
          "base_uri": "https://localhost:8080/",
          "height": 428
        },
        "id": "UufLyC449S_V",
        "outputId": "49a8230a-d22b-46a1-bd86-20ef12002783"
      },
      "execution_count": 73,
      "outputs": [
        {
          "output_type": "display_data",
          "data": {
            "text/plain": [
              "<Figure size 720x504 with 1 Axes>"
            ],
            "image/png": "[encoded data removed]"
          },
          "metadata": {
            "needs_background": "light"
          }
        }
      ]
    }
  ]
}