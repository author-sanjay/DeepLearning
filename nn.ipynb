{
  "nbformat": 4,
  "nbformat_minor": 0,
  "metadata": {
    "colab": {
      "provenance": [],
      "authorship_tag": "ABX9TyM2mRmHpbOyxZlgnu6B4wRj",
      "include_colab_link": true
    },
    "kernelspec": {
      "name": "python3",
      "display_name": "Python 3"
    },
    "language_info": {
      "name": "python"
    }
  },
  "cells": [
    {
      "cell_type": "markdown",
      "metadata": {
        "id": "view-in-github",
        "colab_type": "text"
      },
      "source": [
        "<a href=\"https://colab.research.google.com/github/author-sanjay/DeepLearning/blob/main/nn.ipynb\" target=\"_parent\"><img src=\"https://colab.research.google.com/assets/colab-badge.svg\" alt=\"Open In Colab\"/></a>"
      ]
    },
    {
      "cell_type": "code",
      "execution_count": 2,
      "metadata": {
        "colab": {
          "base_uri": "https://localhost:8080/",
          "height": 35
        },
        "id": "nNQ0DKQEWFDl",
        "outputId": "ce41c2cd-516a-4363-b196-91ecc07f57a4"
      },
      "outputs": [
        {
          "output_type": "execute_result",
          "data": {
            "text/plain": [
              "'1.12.1+cu113'"
            ],
            "application/vnd.google.colaboratory.intrinsic+json": {
              "type": "string"
            }
          },
          "metadata": {},
          "execution_count": 2
        }
      ],
      "source": [
        "import torch\n",
        "from torch import nn\n",
        "import matplotlib.pyplot as plt\n",
        "\n",
        "torch.__version__"
      ]
    },
    {
      "cell_type": "markdown",
      "source": [
        "##Data (Preparing and Loading)"
      ],
      "metadata": {
        "id": "tFyXBJl2ZD7l"
      }
    },
    {
      "cell_type": "code",
      "source": [
        "#known\n",
        "weight=0.7\n",
        "bias=0.3\n",
        "start=0\n",
        "end=1\n",
        "step=0.02\n",
        "X=torch.arange(start,end,step).unsqueeze(dim=1)\n",
        "y=weight+bias*X\n",
        "X[:10],y[:10]"
      ],
      "metadata": {
        "colab": {
          "base_uri": "https://localhost:8080/"
        },
        "id": "e8eJmTLOZNp1",
        "outputId": "2fe14ca5-19af-458c-cc26-2eb0c2671e23"
      },
      "execution_count": 9,
      "outputs": [
        {
          "output_type": "execute_result",
          "data": {
            "text/plain": [
              "(tensor([[0.0000],\n",
              "         [0.0200],\n",
              "         [0.0400],\n",
              "         [0.0600],\n",
              "         [0.0800],\n",
              "         [0.1000],\n",
              "         [0.1200],\n",
              "         [0.1400],\n",
              "         [0.1600],\n",
              "         [0.1800]]), tensor([[0.7000],\n",
              "         [0.7060],\n",
              "         [0.7120],\n",
              "         [0.7180],\n",
              "         [0.7240],\n",
              "         [0.7300],\n",
              "         [0.7360],\n",
              "         [0.7420],\n",
              "         [0.7480],\n",
              "         [0.7540]]))"
            ]
          },
          "metadata": {},
          "execution_count": 9
        }
      ]
    },
    {
      "cell_type": "markdown",
      "source": [
        "###Training and testing"
      ],
      "metadata": {
        "id": "js1XXvRbc3Rv"
      }
    },
    {
      "cell_type": "code",
      "source": [
        "#create and train test split\n",
        "train_split= int(0.8*len(X))\n",
        "x_train , y_train=X[:train_split],y[:train_split]\n",
        "x_test,y_test=X[train_split:],y[train_split:]\n"
      ],
      "metadata": {
        "id": "j8iGxyGlcBOX"
      },
      "execution_count": 15,
      "outputs": []
    },
    {
      "cell_type": "markdown",
      "source": [
        "###Visualize\n"
      ],
      "metadata": {
        "id": "qoxpebGWeGM7"
      }
    },
    {
      "cell_type": "code",
      "source": [
        "def plot_prediction(train_data=x_train,train_labels=y_train,test_data=x_test,test_labels=y_test,predictions=None):\n",
        "  plt.figure(figsize=(10,7))\n",
        "  plt.scatter(train_data,train_labels,c=\"b\", s=4,label=\"training data\")\n",
        "  plt.scatter(test_data,test_labels,c=\"y\", s=7,label=\"test data\")\n",
        "  if predictions is not None:\n",
        "    plt.scatter(test_data,predictions,c=\"r\", s=4,label=\"Predictions\")\n",
        "\n",
        "  plt.legend(prop={\"size\":14})\n",
        "  "
      ],
      "metadata": {
        "id": "001RRStld_ci"
      },
      "execution_count": 33,
      "outputs": []
    },
    {
      "cell_type": "code",
      "source": [
        "plot_prediction()"
      ],
      "metadata": {
        "colab": {
          "base_uri": "https://localhost:8080/",
          "height": 428
        },
        "id": "ksvDEmvb_wLA",
        "outputId": "c62a8049-dbfa-4d92-c782-9cf62aba638f"
      },
      "execution_count": 34,
      "outputs": [
        {
          "output_type": "display_data",
          "data": {
            "text/plain": [
              "<Figure size 720x504 with 1 Axes>"
            ],
            "image/png": "[encoded data removed]"
          },
          "metadata": {
            "needs_background": "light"
          }
        }
      ]
    },
    {
      "cell_type": "markdown",
      "source": [
        "##Building first model\n",
        "\n",
        "\n",
        "\n",
        "###What this does:\n",
        "1. Start with random values\n",
        "2. Look at the training data and adjust the random values to better represent the ideal values \n",
        "\n",
        "###But How?\n",
        "1. Gradient Decent Algo\n",
        "2. Backpropagation\n"
      ],
      "metadata": {
        "id": "lUK5cRr7A4DZ"
      }
    },
    {
      "cell_type": "code",
      "source": [
        "#Create linear regression model\n",
        "class LinearRegressionModel(nn.Module):\n",
        "  def __init__(self):\n",
        "    super().__init__()\n",
        "\n",
        "    self.weight=nn.Parameter(torch.randn(1,requires_grad=True,dtype=torch.float))\n",
        "    self.bias=nn.Parameter(torch.randn(1,requires_grad=True,dtype=torch.float))\n",
        "\n",
        "  def forward(self,x:torch.Tensor)->torch.Tensor: #-> means returns and x: means x is of Torch Tensor type\n",
        "   return self.weight*x+self.bias\n",
        "\n",
        "#any subclass of nn module has a forward methond where the logic of the computation is stored. In This case we are using the regression formula\n",
        "\n"
      ],
      "metadata": {
        "id": "31tAdvp-A6co"
      },
      "execution_count": 65,
      "outputs": []
    },
    {
      "cell_type": "markdown",
      "source": [
        "##Pytorch Model Building essentials\n",
        "\n",
        "* torch.nn - contains all the building for computation graphs \n",
        "* torch.nn.parameter- what parameters should outr model try and learn\n",
        "* torch.nn.Module- The base class for all nn modules. If you subclass It you should overwrite forward method\n",
        "* torch.optim- This is where the optimizers in PyTorch live. They will help with gradient Decent \n",
        "\n",
        "* def forward( )- Defines what happens in the forward computation...\n",
        "\n",
        "* torch.utils.data.Dataset - represents a map between key and sample pairs of your data such as images and their associated labels\n",
        "\n",
        "* torch.utils.data.Dataloader - creates a python iterable over a torch dataset. "
      ],
      "metadata": {
        "id": "DGRR1fcqUKqU"
      }
    },
    {
      "cell_type": "code",
      "source": [
        "\n",
        "torch.manual_seed(42)\n",
        "\n",
        "model_0=LinearRegressionModel()\n",
        "\n",
        "list(model_0.parameters())"
      ],
      "metadata": {
        "colab": {
          "base_uri": "https://localhost:8080/"
        },
        "id": "RNPUTxARWvWU",
        "outputId": "7614ffd9-38be-49ee-993c-bada9b4a6d26"
      },
      "execution_count": 66,
      "outputs": [
        {
          "output_type": "execute_result",
          "data": {
            "text/plain": [
              "[Parameter containing:\n",
              " tensor([0.3367], requires_grad=True), Parameter containing:\n",
              " tensor([0.1288], requires_grad=True)]"
            ]
          },
          "metadata": {},
          "execution_count": 66
        }
      ]
    },
    {
      "cell_type": "code",
      "source": [
        "# List named parameters\n",
        "\n",
        "model_0.state_dict()"
      ],
      "metadata": {
        "colab": {
          "base_uri": "https://localhost:8080/"
        },
        "id": "_MW9kHWMW_cV",
        "outputId": "b35b890b-1bb7-449a-ccac-df04ed4bf433"
      },
      "execution_count": 67,
      "outputs": [
        {
          "output_type": "execute_result",
          "data": {
            "text/plain": [
              "OrderedDict([('weight', tensor([0.3367])), ('bias', tensor([0.1288]))])"
            ]
          },
          "metadata": {},
          "execution_count": 67
        }
      ]
    },
    {
      "cell_type": "code",
      "source": [
        "# Make predictions with our model using torch.inference_mode()\n",
        "\n",
        "with torch.inference_mode():\n",
        "  y_preds=model_0(x_test)\n",
        "\n",
        "y_preds"
      ],
      "metadata": {
        "colab": {
          "base_uri": "https://localhost:8080/"
        },
        "id": "AJsdQHhCXL_E",
        "outputId": "3904fb49-5dea-4d34-a063-ccebb7197fa5"
      },
      "execution_count": 72,
      "outputs": [
        {
          "output_type": "execute_result",
          "data": {
            "text/plain": [
              "tensor([[0.3982],\n",
              "        [0.4049],\n",
              "        [0.4116],\n",
              "        [0.4184],\n",
              "        [0.4251],\n",
              "        [0.4318],\n",
              "        [0.4386],\n",
              "        [0.4453],\n",
              "        [0.4520],\n",
              "        [0.4588]])"
            ]
          },
          "metadata": {},
          "execution_count": 72
        }
      ]
    },
    {
      "cell_type": "code",
      "source": [
        "y_test"
      ],
      "metadata": {
        "colab": {
          "base_uri": "https://localhost:8080/"
        },
        "id": "izt6xkfzZL7C",
        "outputId": "d0af7b0b-0d26-48ad-c7b1-5a11017c2298"
      },
      "execution_count": 70,
      "outputs": [
        {
          "output_type": "execute_result",
          "data": {
            "text/plain": [
              "tensor([[0.9400],\n",
              "        [0.9460],\n",
              "        [0.9520],\n",
              "        [0.9580],\n",
              "        [0.9640],\n",
              "        [0.9700],\n",
              "        [0.9760],\n",
              "        [0.9820],\n",
              "        [0.9880],\n",
              "        [0.9940]])"
            ]
          },
          "metadata": {},
          "execution_count": 70
        }
      ]
    },
    {
      "cell_type": "code",
      "source": [
        "plot_prediction(predictions=y_preds)"
      ],
      "metadata": {
        "colab": {
          "base_uri": "https://localhost:8080/",
          "height": 428
        },
        "id": "EpIkrXHnZSXF",
        "outputId": "e6c04c48-0dc5-42ce-ef70-966a87868d12"
      },
      "execution_count": 71,
      "outputs": [
        {
          "output_type": "display_data",
          "data": {
            "text/plain": [
              "<Figure size 720x504 with 1 Axes>"
            ],
            "image/png": "[encoded data removed]"
          },
          "metadata": {
            "needs_background": "light"
          }
        }
      ]
    }
  ]
}